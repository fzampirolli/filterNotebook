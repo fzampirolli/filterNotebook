{
    "nbformat": 4,
    "nbformat_minor": 0,
    "metadata": {
        "colab": {
            "name": "cap2.part1.ipynb",
            "provenance": [
                {
                    "file_id": "120HGhuQUsYqKDvUqyrl3bAJBrlWmHUC8",
                    "timestamp": 1616405504493
                },
                {
                    "file_id": "1IUumSmkO7OKjjjmphpRGVZm9XAQ106g2",
                    "timestamp": 1575381269264
                }
            ],
            "collapsed_sections": [],
            "toc_visible": true
        },
        "kernelspec": {
            "name": "python3",
            "display_name": "Python 3"
        }
    },
    "cells": [
        {
            "cell_type": "markdown",
            "metadata": {},
            "source": [
                "# Processando a Informa\u00e7\u00e3o: Cap. 2: Organiza\u00e7\u00e3o de c\u00f3digo\n",
                "\n",
                "\n",
                "\n",
                "\n",
                "\n"
            ]
        },
        {
            "cell_type": "markdown",
            "metadata": {},
            "source": [
                "<img src=\"https://editora.ufabc.edu.br/images/Capa_Processando_Informacao.jpg\" alt=\"Capa\" width=\"150\" align=\"right\">\n",
                "\n",
                "![](\"figs/Capa_Processando_Informacao.jpg\")\n",
                "\n",
                "Este caderno (Notebook) \u00e9 parte complementar *online* do livro **[Processando a Informa\u00e7\u00e3o](https://editora.ufabc.edu.br/matematica-e-ciencias-da-computacao/58-processando-a-informacao): um livro pr\u00e1tico de programa\u00e7\u00e3o independente de linguagem**, que deve ser consultado no caso de d\u00favidas sobre os temas apresentados. \n",
                "\n",
                "> Este conte\u00fado pode ser copiado e alterado livremente e foi inspirado nesse livro. \n"
            ]
        },
        {
            "cell_type": "markdown",
            "metadata": {},
            "source": [
                "## Sum\u00e1rio\n",
                "* Revis\u00e3o do cap\u00edtulo anterior\n",
                "* Programas sequenciais\n",
                "* Coment\u00e1rios\n",
                "* Desvios de fluxo \n",
                "* Programas e Subprogramas\n",
                "* Fun\u00e7\u00f5es, m\u00e9todos e modulariza\u00e7\u00e3o\n",
                "* Reaproveitamento e manuten\u00e7\u00e3o de c\u00f3digo\n",
                "* Revis\u00e3o deste cap\u00edtulo\n",
                "* Exerc\u00edcios"
            ]
        },
        {
            "cell_type": "markdown",
            "metadata": {},
            "source": [
                "## Revis\u00e3o do cap\u00edtulo anterior (Fundamentos)"
            ]
        },
        {
            "cell_type": "markdown",
            "metadata": {},
            "source": [
                "* No cap\u00edtulo anterior foram apresentados os fundamentos para se iniciar a programar utilizando alguma linguagem de programa\u00e7\u00e3o, al\u00e9m de alguns exemplos de c\u00f3digos e principalmente de como executar estes c\u00f3digos em ambientes de programa\u00e7\u00e3o. \n",
                "\n",
                "* Neste cap\u00edtulo iremos iniciar a organizar esses c\u00f3digos, utilizando o conceito de sistema de informa\u00e7\u00e3o em partes:\n",
                "\n",
                "  > ENTRADA DE DADOS   $\\Rightarrow$   PROCESSAMENTO DA INFORMA\u00c7\u00c3O   $\\Rightarrow$   SA\u00cdDA"
            ]
        },
        {
            "cell_type": "markdown",
            "metadata": {},
            "source": [
                "## Programas sequenciais"
            ]
        },
        {
            "cell_type": "markdown",
            "metadata": {},
            "source": [
                "* Como vimos no cap\u00edtulo anterior, um programa consiste de uma **sequ\u00eancia l\u00f3gica de comandos e opera\u00e7\u00f5es** que, executadas em ordem, realizam uma determinada tarefa. \n",
                "\n",
                "* Em geral, um programa processa dados de entrada de forma a obter o resultado desejado ou sa\u00edda.\n",
                "\n",
                "* A **entrada** e a **sa\u00edda** de dados s\u00e3o, comumente, realizadas utilizando os dispositivos de entrada e sa\u00edda, como teclado e monitor.\n",
                "\n",
                "* Os dados requeridos para o **processamento** podem estar tamb\u00e9m contidos no c\u00f3digo do programa (no exemplo a seguir, poderia ser `conta = 100`). \n",
                "\n",
                "* No exemplo a seguir em **pseudoc\u00f3digo** a entrada \u00e9 lida do teclado (comando `leia()`) e a sa\u00edda \u00e9 impressa no monitor (comando `escreva`)."
            ]
        },
        {
            "cell_type": "markdown",
            "metadata": {},
            "source": [
                "```\n",
                "#1 ENTRADA de dados:\n",
                "#1.1 Defini\u00e7\u00e3o das vari\u00e1veis do programa:\n",
                "Real: conta, gorjeta;\n",
                "\n",
                "#1.2 Entrada de dados\n",
                "conta = leia(\"Entre o valor da conta: \");\n",
                "\n",
                "#2 PROCESSAMENTO:\n",
                "gorjeta = conta * 0.2;\n",
                "\n",
                "#3 SA\u00cdDA de dados (na tela):\n",
                "escreva(\"Valor da gorjeta = \" + gorjeta);\n",
                "```"
            ]
        },
        {
            "cell_type": "markdown",
            "metadata": {},
            "source": [
                "Assim, o procedimento para especificar um programa \u00e9 definir:\n",
                "1. Os dados de **entrada** necess\u00e1rios (insumos)\n",
                "2. O **processamento** ou transforma\u00e7\u00e3o dos dados de entrada em sa\u00edda\n",
                "3. A **sa\u00edda** desejada do programa\n"
            ]
        },
        {
            "cell_type": "markdown",
            "metadata": {},
            "source": [
                "## Coment\u00e1rios"
            ]
        },
        {
            "cell_type": "markdown",
            "metadata": {},
            "source": [
                "* Coment\u00e1rios s\u00e3o partes do c\u00f3digo usados pelo desenvolvedor para deixar notas, explica\u00e7\u00f5es, exemplos, etc.\n",
                "* Quando definido um coment\u00e1rio, \u00e9 dada uma instru\u00e7\u00e3o direta ao **compilador/interpretador para ignorar a parte comentada**. \n",
                "* Isto quer dizer que os coment\u00e1rios n\u00e3o ser\u00e3o considerados quando o c\u00f3digo for executado.\n",
                "* Logo, os coment\u00e1rios n\u00e3o s\u00e3o parte da execu\u00e7\u00e3o. \n",
                "* Cada linguagem tem sua pr\u00f3pria maneira de introduzir coment\u00e1rios no c\u00f3digo."
            ]
        },
        {
            "cell_type": "markdown",
            "metadata": {},
            "source": [
                "| Tabela. Identificadores  de coment\u00e1rio. \t|||\n",
                "|-|-|-|\n",
                "| Linguagem | Uma linha | V\u00e1rias linhas |\n",
                "| Java/JS/C/C++| //... | /\\*...\\*/ |\n",
                "| Python| #... | \"\"\"...\"\"\" ou '''...''' |\n",
                "| Matlab| %... | %{...}% |\n",
                "| Pascal| {...} | {*...*} |\n",
                "| SQL   | --... | /*...*/ |\n",
                "| R     | #.. | |\n"
            ]
        },
        {
            "cell_type": "markdown",
            "metadata": {},
            "source": [
                "## Desvio de Fluxo"
            ]
        },
        {
            "cell_type": "markdown",
            "metadata": {},
            "source": [
                "* Um programa consiste em uma sequ\u00eancia de comandos executados em ordem, em uma linha cont\u00ednua de execu\u00e7\u00e3o. \n",
                "\n",
                "* No entanto, esta linha (em ingl\u00eas: *thread*) pode conter desvios ou descontinuidades, processando c\u00f3digos de bibliotecas ou subprogramas."
            ]
        },
        {
            "cell_type": "markdown",
            "metadata": {},
            "source": [
                "## Programas e Subprogramas"
            ]
        },
        {
            "cell_type": "markdown",
            "metadata": {},
            "source": [
                "* Em grande parte das linguagens de programa\u00e7\u00e3o, **o c\u00f3digo dos programas pode ser dividido em um ou mais arquivos ou partes**.\n",
                "\n",
                "* <font color='blue'>Cada parte contem uma sequ\u00eancia de comandos com um objetivo</font>, realizando uma tarefa dentro do programa. \n",
                "\n",
                "* Dentro de um mesmo programa podem existir **subprogramas** (ou partes) com fun\u00e7\u00f5es espec\u00edficas ou subconjuntos de comandos que s\u00f3 ser\u00e3o executados em condi\u00e7\u00f5es especiais.\n",
                "\n",
                "* Todas as linguagens v\u00eam acompanhadas de **bibliotecas**, estas <font color='blue'>contendo fun\u00e7\u00f5es ou programas de uso comum</blue>. \n",
                "\n",
                "* S\u00e3o exemplos as fun\u00e7\u00f5es para c\u00e1lculos matem\u00e1ticos, para opera\u00e7\u00f5es de entrada e sa\u00edda, para comunica\u00e7\u00e3o e convers\u00e3o de dados. \n"
            ]
        },
        {
            "cell_type": "markdown",
            "metadata": {},
            "source": [
                "## Bibliotecas"
            ]
        },
        {
            "cell_type": "markdown",
            "metadata": {},
            "source": [
                "Cada linguagem de programa\u00e7\u00e3o possui um conjunto de bibliotecas dispon\u00edveis para uso. As bibliotecas podem guardar vari\u00e1veis ou fun\u00e7\u00f5es."
            ]
        },
        {
            "cell_type": "markdown",
            "metadata": {},
            "source": [
                "\n",
                "Ver todas as bibliotecas nativas no Python em https://docs.python.org/pt-br/3/library. \n",
                "\n",
                "Algumas bibliotecas importantes, instaladas com `!pip`:\n",
                " \n",
                "* **Numpy** -  processamento de matrizes e vetores\n",
                "* **Matplotlib** - processamento gr\u00e1fico\n",
                "* **Pandas** - processamento de arquivos CSV para ci\u00eancia de dados\n",
                "* **TensorFlow** - utilizado em aprendizado de m\u00e1quina\n",
                "* **OpenCV** - processamento de imagens e vis\u00e3o computacional\n",
                "* **NLTK** - processamento de linguagem natural\n",
                "\n",
                "Por exemplo, para instalar a biblioteca Numpy: `!pip install numpy`. <font color='blue'>Essas bibliotecas n\u00e3o ser\u00e3o utilizadas neste curso introdut\u00f3rio de programa\u00e7\u00e3o.</font>"
            ]
        },
        {
            "cell_type": "markdown",
            "metadata": {},
            "source": [
                "\n",
                "Para utilizar uma biblioteca, fazer \n",
                "* `import biblioteca` e usar com `biblioteca.fun\u00e7\u00e3o()` ou `biblioteca.vari\u00e1vel` ou \n",
                "* `import biblioteca as my` e usar com `my.fun\u00e7\u00e3o()` ou `my.vari\u00e1vel` ou  \n",
                "* `from biblioteca import fun\u00e7\u00e3o, vari\u00e1vel` e usar simplesmente com `fun\u00e7\u00e3o()` ou `vari\u00e1vel` ou\n",
                "* `from biblioteca import *` e usar simplesmente com `fun\u00e7\u00e3o()` ou `vari\u00e1vel` ou\n",
                "\n",
                "Veja exemplos a seguir:"
            ]
        },
        {
            "cell_type": "code",
            "metadata": {},
            "source": [
                "import math\n",
                "print(\"math.pi =\",math.pi)\n",
                "print(\"math.sqrt(25) =\",math.sqrt(25))\n",
                "print(\"5**3 ou math.pow(5,3) =\",math.pow(5,3))\n",
                "print(\"math.exp(1) =\",math.exp(1))\n",
                "print(\"math.exp(2) =\",math.exp(2))"
            ],
            "execution_count": null,
            "outputs": []
        },
        {
            "cell_type": "markdown",
            "metadata": {},
            "source": [
                "\n",
                "Para utilizar a biblioteca ***matplotlib***:"
            ]
        },
        {
            "cell_type": "code",
            "metadata": {},
            "source": [
                "!pip install matplotlib"
            ],
            "execution_count": null,
            "outputs": []
        },
        {
            "cell_type": "code",
            "metadata": {},
            "source": [
                "import matplotlib.pyplot as plt\n",
                "x1, y1 = 0, 0\n",
                "x2, y2 = 6, 12\n",
                "\n",
                "plt.title(\"meu primeiro gr\u00e1fico\")\n",
                "plt.text(x1, y1, \"p1\", bbox=dict(facecolor='red', alpha=0.4), fontsize=12)\n",
                "plt.text(x2, y2, \"p2\", bbox=dict(facecolor='red', alpha=0.4), fontsize=12)\n",
                "plt.plot([x1, x2], [y1, y2], color='blue')\n",
                "plt.grid()"
            ],
            "execution_count": null,
            "outputs": []
        },
        {
            "cell_type": "markdown",
            "metadata": {},
            "source": [
                "![](\"figs/imageCap2a.png\")"
            ]
        },
        {
            "cell_type": "markdown",
            "metadata": {},
            "source": [
                "## Fun\u00e7\u00f5es ou M\u00e9todos de Usu\u00e1rio"
            ]
        },
        {
            "cell_type": "markdown",
            "metadata": {},
            "source": [
                "* O uso de fun\u00e7\u00f5es facilita a **reutiliza\u00e7\u00e3o de c\u00f3digo**, dado que uma fun\u00e7\u00e3o \u00e9 um programa autocontido, com **entrada**, **processamento** e **sa\u00edda**.\n",
                "\n",
                "* Uma fun\u00e7\u00e3o pode ser copiada de um programa para outro ou incorporado em uma biblioteca escrita pelo usu\u00e1rio, utilizando o comando `import myBiblioteca`.\n",
                "\n",
                "* A seguir temos um exemplo de fun\u00e7\u00e3o de usu\u00e1rio escrita em pseudoc\u00f3digo:"
            ]
        },
        {
            "cell_type": "markdown",
            "metadata": {},
            "source": [
                "```\n",
                "# MINHA(S) FUN\u00c7\u00c3O(\u00d5ES)\n",
                "fun\u00e7\u00e3o delta(recebe: real a, real b, real c) retorna real d {\n",
                "     d = b2 \u2013 4ac\n",
                "     retorne d\n",
                "}\n",
                "\n",
                "principal {\n",
                "  # ENTRADAS\n",
                "  a = 5\n",
                "  b = -2\n",
                "  c = 4\n",
                "\n",
                "  # PROCESSAMENTO\n",
                "  real valor = delta(a, b, c) # AQUI EST\u00c1 A CHAMADA DA FUN\u00c7\u00c3O\n",
                "  \n",
                "  # SA\u00cdDA\n",
                "  escreva(\u201cO delta de ax2 +bx + c \u00e9 \u201d + valor)\n",
                "}\n",
                "```\n"
            ]
        },
        {
            "cell_type": "markdown",
            "metadata": {},
            "source": [
                "```\n",
                "TERMINOLOGIA: Os m\u00e9todos podem ser chamados tamb\u00e9m de \n",
                "m\u00f3dulos, fun\u00e7\u00f5es, subprogramas ou procedimentos. \n",
                "\n",
                "Existe uma conven\u00e7\u00e3o: quando um m\u00e9todo tem argumento(s) \n",
                "(par\u00e2metros) e um retorno \u00e9 chamado de fun\u00e7\u00e3o, caso contr\u00e1rio, \n",
                "\u00e9 chamado procedimento. \n",
                "\n",
                "Por\u00e9m, poucas linguagens fazem distin\u00e7\u00e3o na sintaxe entre \n",
                "fun\u00e7\u00e3o e procedimento, como a Pascal, tornando confusa \n",
                "esta conven\u00e7\u00e3o. \n",
                "```"
            ]
        },
        {
            "cell_type": "markdown",
            "metadata": {},
            "source": [
                "#### Exemplo 01 - Uso de Fun\u00e7\u00f5es"
            ]
        },
        {
            "cell_type": "markdown",
            "metadata": {},
            "source": [
                "###### Casos para Teste Moodle+VPL\n",
                "\n",
                "Para o professor criar uma atividade VPL no Moodle para este Exemplo 01, basta incluir em `Casos para teste`, o seguinte texto (pode incluir mais casos):\n",
                "\n",
                "```\n",
                "case=caso1\n",
                "output= \n",
                "O delta de ax^2 + bx + c \u00e9 -76.0\n",
                "```"
            ]
        },
        {
            "cell_type": "markdown",
            "metadata": {},
            "source": [
                "\n",
                "Observe que o **ESCOPO** da fun\u00e7\u00e3o \u00e9 definido por espa\u00e7os da primeira coluna (linhas 3 e 4):"
            ]
        },
        {
            "cell_type": "code",
            "metadata": {},
            "source": [
                "# a fun\u00e7\u00e3o \u00e9 definida aqui\n",
                "def delta( a, b, c ):\n",
                "  d = b * b - 4 * a * c;\n",
                "  return d;\n",
                "# agora j\u00e1 pode ser usada\n",
                "valor = delta( 5, -2, 4)\n",
                "print(\"O delta de ax^2 + bx + c \u00e9 %.1f\" % valor)"
            ],
            "execution_count": null,
            "outputs": []
        },
        {
            "cell_type": "markdown",
            "metadata": {},
            "source": [
                "\n",
                "Criando a minha biblioteca em python"
            ]
        },
        {
            "cell_type": "code",
            "metadata": {},
            "source": [
                "%%writefile myBiblioteca.py\n",
                "def Delta(a, b, c):\n",
                "  '''\n",
                "  Fun\u00e7\u00e3o para calcular o delta de uma equa\u00e7\u00e3o de 2o. grau\n",
                "  com coeficientes a, b e c\n",
                "  '''\n",
                "  d = b * b - 4 * a * c\n",
                "  return d\n",
                "\n",
                "def Raiz1(a, b, c):\n",
                "  '''\n",
                "  Fun\u00e7\u00e3o para calcular raiz1 de a, b e c\n",
                "  '''\n",
                "  r1 = (-b + Delta(a,b,c)**.5) / (2*a)\n",
                "  return r1\n",
                "\n",
                "def Raiz2(a, b, c):\n",
                "  '''\n",
                "  Fun\u00e7\u00e3o para calcular raiz1 de a, b e c\n",
                "  '''\n",
                "  r2 = (-b - Delta(a,b,c)**.5) / (2*a)\n",
                "  return r2"
            ],
            "execution_count": null,
            "outputs": []
        },
        {
            "cell_type": "code",
            "metadata": {},
            "source": [
                "import myBiblioteca as my\n",
                "help(my)"
            ],
            "execution_count": null,
            "outputs": []
        },
        {
            "cell_type": "code",
            "metadata": {},
            "source": [
                "my.Delta(1,5,4)"
            ],
            "execution_count": null,
            "outputs": []
        },
        {
            "cell_type": "code",
            "metadata": {},
            "source": [
                "my.Raiz1(1,5,4)"
            ],
            "execution_count": null,
            "outputs": []
        },
        {
            "cell_type": "code",
            "metadata": {},
            "source": [
                "my.Raiz2(1,5,4)"
            ],
            "execution_count": null,
            "outputs": []
        },
        {
            "cell_type": "code",
            "metadata": {},
            "source": [
                "import matplotlib.pyplot as plt\n",
                "import numpy as np\n",
                "x = np.arange(-5,0,.1)\n",
                "a, b, c = 1, 5, 4\n",
                "y1 = a*x*x + b*x + c\n",
                "plt.plot(x,y1,'g')\n",
                "plt.title(\"Meu gr\u00e1fico maravilhoso\")\n",
                "plt.text(my.Raiz2(1,5,4), 0, \"r1\", bbox=dict(facecolor='red', alpha=0.4), fontsize=12)\n",
                "plt.text(my.Raiz1(1,5,4), 0, \"r2\", bbox=dict(facecolor='red', alpha=0.4), fontsize=12)\n",
                "plt.grid()"
            ],
            "execution_count": null,
            "outputs": []
        },
        {
            "cell_type": "markdown",
            "metadata": {},
            "source": [
                "![](\"figs/imageCap2b.png\")"
            ]
        },
        {
            "cell_type": "code",
            "metadata": {},
            "source": [
                "from myBiblioteca import Delta # ou\n",
                "from myBiblioteca import * \n",
                "Delta(5,-2,4)"
            ],
            "execution_count": null,
            "outputs": []
        },
        {
            "cell_type": "markdown",
            "metadata": {},
            "source": [
                "\n",
                "Para fazer upload de um arquivo no GDrive:"
            ]
        },
        {
            "cell_type": "code",
            "metadata": {},
            "source": [
                "#https://drive.google.com/file/d/1gk07ior6KzJ6UlBW4JnddIkW5T0cEwb3/view?usp=sharing\n",
                "!gdown --id 1gk07ior6KzJ6UlBW4JnddIkW5T0cEwb3"
            ],
            "execution_count": null,
            "outputs": []
        },
        {
            "cell_type": "markdown",
            "metadata": {},
            "source": [
                "\n",
                "Para fazer upload de um arquivo de uma URL:"
            ]
        },
        {
            "cell_type": "code",
            "metadata": {},
            "source": [
                "#https://www.ufabc.edu.br/images/conteudo/15-anos.png\n",
                "!wget https://www.ufabc.edu.br/images/conteudo/15-anos.png"
            ],
            "execution_count": null,
            "outputs": []
        },
        {
            "cell_type": "markdown",
            "metadata": {},
            "source": [
                "### Tabula\u00e7\u00e3o"
            ]
        },
        {
            "cell_type": "markdown",
            "metadata": {},
            "source": [
                "\n",
                "* Linguagens como Python fazem da tabula\u00e7\u00e3o precisa um requerimento obrigat\u00f3rio para defini\u00e7\u00e3o da l\u00f3gica de programa\u00e7\u00e3o."
            ]
        },
        {
            "cell_type": "markdown",
            "metadata": {},
            "source": [
                "## Escopo"
            ]
        },
        {
            "cell_type": "markdown",
            "metadata": {},
            "source": [
                "* Os subprogramas s\u00e3o programas independentes dentro do programa.\n",
                "\n",
                "* Logo possuem vari\u00e1veis pr\u00f3prias para armazenar seus dados. \n",
                "\n",
                "* Estas <font color='blue'>**vari\u00e1veis locais** s\u00f3 existem no \u00e2mbito do subprograma e s\u00f3 durante cada execu\u00e7\u00e3o (chamada) do mesmo</font>, desaparecendo (ou sendo apagadas) ao t\u00e9rmino do subprograma ou ao retornar em qualquer ponto com o comando return.\n",
                "\n",
                "* **Vari\u00e1veis globais**, por outro lado, podem ser criadas em um escopo hierarquicamente superior a todos os m\u00e9todos/fun\u00e7\u00f5es, desta forma permeando todos os subprogramas. \n",
                "\n",
                "* Logo, as **vari\u00e1veis globais** t\u00eam escopo em todos os m\u00e9todos.\n"
            ]
        },
        {
            "cell_type": "markdown",
            "metadata": {},
            "source": [
                "\n",
                "Em Python, as **vari\u00e1veis globais** s\u00e3o definidas como:  `global variavel`."
            ]
        },
        {
            "cell_type": "code",
            "metadata": {},
            "source": [
                "\n",
                "def calculaIdade(anoAtual):\n",
                "  global anoNascimento # considera a vari\u00e1vel global\n",
                "  return anoAtual-anoNascimento\n",
                "\n",
                "anoNascimento = 1990 \n",
                "print(\"Idade = \", calculaIdade(2021))"
            ],
            "execution_count": null,
            "outputs": []
        },
        {
            "cell_type": "markdown",
            "metadata": {},
            "source": [
                "## Reaproveitamento e Manuten\u00e7\u00e3o de C\u00f3digo"
            ]
        },
        {
            "cell_type": "markdown",
            "metadata": {},
            "source": [
                "* Outra vantagem do uso de fun\u00e7\u00f5es e m\u00e9todos, al\u00e9m da capacidade de se reaproveitar o c\u00f3digo j\u00e1 escrito em novos programas copiando os subprogramas desejados, \u00e9 \n",
                "> a possibilidade de se atualizar os m\u00e9todos sem a necessidade de alterar o c\u00f3digo do programa principal. \n",
                "\n",
                "* Para tanto, basta que a comunica\u00e7\u00e3o do m\u00e9todo (entradas e sa\u00eddas) permane\u00e7a inalterada. \n",
                "\n",
                "* Como exemplo, utilizamos um programa com m\u00e9todos para entrada e sa\u00edda de dados com os m\u00e9todos/fun\u00e7\u00f5es `leia()` e `escreva()`, baseado nos exemplos anteriores.\n",
                "\n",
                "* Para programas muito simples, como poucas linhas de c\u00f3digo, pode ter a impress\u00e3o de deixar o c\u00f3digo mais complicado, mas a principal vantagem \u00e9 o reaproveitamento de c\u00f3digo em outros programas similares. \n",
                "\n",
                "* <font color='red'>Esse recurso de m\u00e9todos de entrada e sa\u00edda ser\u00e3o muito \u00fateis nos t\u00f3picos de Vetores e Matr\u00edzes, abordados nos Cap\u00edtulos 5 e 6, respectivamente</font>,\n",
                "> quando uma fun\u00e7\u00e3o para ler/escrever uma matriz poder\u00e1 ser reaproveitada em v\u00e1rias quest\u00f5es tendo que manipular matrizes. "
            ]
        },
        {
            "cell_type": "markdown",
            "metadata": {},
            "source": [
                "#### Exemplo 02 - Uso de Fun\u00e7\u00f5es com Entrada e Sa\u00edda de Dados"
            ]
        },
        {
            "cell_type": "markdown",
            "metadata": {},
            "source": [
                "###### Casos para Teste no Moodle+VPL\n",
                "\n",
                "Para o professor criar uma atividade VPL no Moodle para este Exemplo 02, basta incluir em `Casos para teste`, o seguinte texto (pode incluir mais casos):\n",
                "\n",
                "```\n",
                "case=caso1\n",
                "input=3\n",
                "4\n",
                "5\n",
                "output= \n",
                "-44.0\n",
                "case=caso2\n",
                "input=3\n",
                "4\n",
                "2\n",
                "output= \n",
                "-8.0\n",
                "case=caso3\n",
                "input=3\n",
                "5\n",
                "2\n",
                "output= \n",
                "1.0\n",
                "```"
            ]
        },
        {
            "cell_type": "code",
            "metadata": {},
            "source": [
                "# DEFINI\u00c7\u00d5ES DE FUN\u00c7\u00d5ES:\n",
                "def leia(): \n",
                "  a = float(input(\"Entre com o valor de a:\"))\n",
                "  b = float(input(\"Entre com o valor de b:\"))\n",
                "  c = float(input(\"Entre com o valor de c:\"))\n",
                "  return a,b,c;\n",
                "\n",
                "def escreva(d):\n",
                "  print('Delta =',d)\n",
                "\n",
                "def delta( a, b, c ):\n",
                "  d = b * b - 4 * a * c;\n",
                "  return d;\n",
                "\n",
                "# programa principal\n",
                "# ENTRADA DE DADOS\n",
                "a,b,c = leia()\n",
                "\n",
                "# PROCESSAMENTO\n",
                "d = delta( a, b, c)\n",
                "\n",
                "# SA\u00cdDA DE DADOS4\n",
                "escreva(d)"
            ],
            "execution_count": null,
            "outputs": []
        },
        {
            "cell_type": "markdown",
            "metadata": {},
            "source": [
                "## Exerc\u00edcios"
            ]
        },
        {
            "cell_type": "markdown",
            "metadata": {},
            "source": [
                "Ver notebook Colab no arquivo `cap02.part2.lab.*.ipynb` (`*` \u00e9 a extens\u00e3o da linguagem), utilizando aluma linguagem de programa\u00e7\u00e3o de sua prefer\u00eancia, onganizadas em subpastas contidas de `\"gen\"`, na pasta do Google Drive [colabs](https://drive.google.com/drive/folders/1YlFwv8XYN7PYYf-HwDMlkxzbmXzJw9cM?usp=sharing)."
            ]
        },
        {
            "cell_type": "markdown",
            "metadata": {},
            "source": [
                "## Revis\u00e3o deste cap\u00edtulo de Organiza\u00e7\u00e3o de C\u00f3digo\n",
                "* Programas sequenciais\n",
                "  * organize o seu c\u00f3digo em tr\u00eas parte: \n",
                "  > Entrada $\\Rightarrow$ Processamento $\\Rightarrow$ Sa\u00edda\n",
                "* Coment\u00e1rios\n",
                "  * S\u00e3o \u00fateis para outros podem ententer o seu c\u00f3digo\n",
                "* Desvios de fluxo \n",
                "* Programas e Subprogramas\n",
                "* Fun\u00e7\u00f5es, m\u00e9todos e modulariza\u00e7\u00e3o\n",
                "* Reaproveitamento e manuten\u00e7\u00e3o de c\u00f3digo\n",
                "  * Esses 4 \u00fatimos t\u00f3picos s\u00e3o muito importante para organizar o seu c\u00f3digo em partes\n",
                "  * Fique atento ao **escopo** de uma vari\u00e1vel **local** ou **global**\n",
                "* Exerc\u00edcios"
            ]
        }
    ]
}
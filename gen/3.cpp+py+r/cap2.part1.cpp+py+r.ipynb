{
    "nbformat": 4,
    "nbformat_minor": 0,
    "metadata": {
        "colab": {
            "provenance": [
                {
                    "file_id": "120HGhuQUsYqKDvUqyrl3bAJBrlWmHUC8",
                    "timestamp": 1616405504493
                },
                {
                    "file_id": "1IUumSmkO7OKjjjmphpRGVZm9XAQ106g2",
                    "timestamp": 1575381269264
                }
            ]
        },
        "kernelspec": {
            "name": "python3",
            "display_name": "Python 3"
        }
    },
    "cells": [
        {
            "cell_type": "markdown",
            "metadata": {},
            "source": [
                "# Processando a Informa\u00e7\u00e3o: Cap. 2: Organiza\u00e7\u00e3o de c\u00f3digo\n",
                "\n",
                "\n",
                "\n",
                "\n",
                "\n"
            ]
        },
        {
            "cell_type": "markdown",
            "metadata": {},
            "source": [
                "<img src=\"https://editora.ufabc.edu.br/images/Capa_Processando_Informacao.jpg\" alt=\"Capa\" width=\"150\" align=\"right\">\n",
                "\n",
                "![](\"figs/Capa_Processando_Informacao.jpg\")\n",
                "\n",
                "Este caderno (*Notebook*) \u00e9 uma parte complementar *online* do livro **[Processando a Informa\u00e7\u00e3o](https://editora.ufabc.edu.br/matematica-e-ciencias-da-computacao/58-processando-a-informacao): um livro pr\u00e1tico de programa\u00e7\u00e3o independente de linguagem**, que deve ser consultado em caso de d\u00favidas sobre os temas apresentados.\n",
                "\n",
                "> Este conte\u00fado pode ser copiado e alterado livremente, sendo inspirado por este livro.\n"
            ]
        },
        {
            "cell_type": "markdown",
            "metadata": {},
            "source": [
                "## Sum\u00e1rio\n",
                "* Revis\u00e3o do cap\u00edtulo anterior\n",
                "* Programas sequenciais\n",
                "* Coment\u00e1rios\n",
                "* Desvios de fluxo\n",
                "* Programas e Subprogramas\n",
                "* Fun\u00e7\u00f5es, m\u00e9todos e modulariza\u00e7\u00e3o\n",
                "* Reaproveitamento e manuten\u00e7\u00e3o de c\u00f3digo\n",
                "* Revis\u00e3o deste cap\u00edtulo\n",
                "* Exerc\u00edcios"
            ]
        },
        {
            "cell_type": "markdown",
            "metadata": {},
            "source": [
                "## Revis\u00e3o do cap\u00edtulo anterior (Fundamentos)"
            ]
        },
        {
            "cell_type": "markdown",
            "metadata": {},
            "source": [
                "* No cap\u00edtulo anterior, foram apresentados os fundamentos para come\u00e7ar a programar usando alguma linguagem de programa\u00e7\u00e3o, al\u00e9m de alguns exemplos de c\u00f3digos e, principalmente, de como executar esses c\u00f3digos em ambientes de programa\u00e7\u00e3o.\n",
                "\n",
                "* Neste cap\u00edtulo, iniciaremos a organiza\u00e7\u00e3o desses c\u00f3digos, utilizando o conceito de sistema de informa\u00e7\u00e3o em partes:\n",
                "\n",
                "  * **ENTRADA DE DADOS   $\\Rightarrow$   PROCESSAMENTO DA INFORMA\u00c7\u00c3O   $\\Rightarrow$   SA\u00cdDA**"
            ]
        },
        {
            "cell_type": "markdown",
            "metadata": {},
            "source": [
                "## Programas sequenciais"
            ]
        },
        {
            "cell_type": "markdown",
            "metadata": {},
            "source": [
                "* Como vimos no cap\u00edtulo anterior, um programa consiste em uma **sequ\u00eancia l\u00f3gica de comandos e opera\u00e7\u00f5es** que, quando executados em ordem, realizam uma determinada tarefa.\n",
                "\n",
                "* Em geral, um programa processa dados de entrada para obter o resultado desejado na sa\u00edda.\n",
                "\n",
                "* A **entrada** e a **sa\u00edda** de dados s\u00e3o comumente realizadas usando dispositivos de entrada e sa\u00edda, como teclado e monitor.\n",
                "\n",
                "* Os dados necess\u00e1rios para o **processamento** tamb\u00e9m podem estar contidos no c\u00f3digo do programa (no exemplo a seguir, poderiam ser `conta = 100`).\n",
                "\n",
                "* No exemplo a seguir em **pseudoc\u00f3digo**, a entrada \u00e9 lida do teclado (comando `leia()`) e a sa\u00edda \u00e9 impressa no monitor (comando `escreva`)."
            ]
        },
        {
            "cell_type": "markdown",
            "metadata": {},
            "source": [
                "```\n",
                "# 1. ENTRADA de dados:\n",
                "# 1.1 Defini\u00e7\u00e3o das vari\u00e1veis do programa:\n",
                "conta: Real\n",
                "gorjeta: Real\n",
                "\n",
                "# 1.2 Entrada de dados\n",
                "conta = leia(\"Entre com o valor da conta: \")\n",
                "\n",
                "# 2. PROCESSAMENTO:\n",
                "gorjeta = conta * 0.2\n",
                "\n",
                "# 3. SA\u00cdDA de dados (na tela):\n",
                "escreva(\"Valor da gorjeta = \" + gorjeta)\n",
                "```"
            ]
        },
        {
            "cell_type": "markdown",
            "metadata": {},
            "source": [
                "Assim, o procedimento para especificar um programa envolve:\n",
                "\n",
                "1. Definir os dados de **entrada** necess\u00e1rios (insumos).\n",
                "2. Especificar o **processamento** ou transforma\u00e7\u00e3o dos dados de entrada em sa\u00edda.\n",
                "3. Determinar a **sa\u00edda** desejada do programa."
            ]
        },
        {
            "cell_type": "markdown",
            "metadata": {},
            "source": [
                "## Coment\u00e1rios"
            ]
        },
        {
            "cell_type": "markdown",
            "metadata": {},
            "source": [
                "* Coment\u00e1rios s\u00e3o trechos do c\u00f3digo usados pelo desenvolvedor para incluir notas, explica\u00e7\u00f5es, exemplos, entre outros.\n",
                "* Quando um coment\u00e1rio \u00e9 definido, \u00e9 dada uma instru\u00e7\u00e3o direta ao **compilador/interpretador para ignorar a parte comentada**.\n",
                "* Isso significa que os coment\u00e1rios n\u00e3o s\u00e3o considerados durante a execu\u00e7\u00e3o do c\u00f3digo.\n",
                "* Portanto, os coment\u00e1rios n\u00e3o fazem parte da execu\u00e7\u00e3o.\n",
                "* Cada linguagem de programa\u00e7\u00e3o tem sua pr\u00f3pria maneira de inserir coment\u00e1rios no c\u00f3digo."
            ]
        },
        {
            "cell_type": "markdown",
            "metadata": {},
            "source": [
                "| Tabela. Identificadores  de coment\u00e1rio. \t|||\n",
                "|-|-|-|\n",
                "| Linguagem | Uma linha | V\u00e1rias linhas |\n",
                "| Java/JS/C/C++| //... | /\\*...\\*/ |\n",
                "| Python| #... | \"\"\"...\"\"\" ou '''...''' |\n",
                "| Matlab| %... | %{...}% |\n",
                "| Pascal| {...} | {*...*} |\n",
                "| SQL   | --... | /*...*/ |\n",
                "| R     | #.. | |\n"
            ]
        },
        {
            "cell_type": "markdown",
            "metadata": {},
            "source": [
                "## Desvio de Fluxo"
            ]
        },
        {
            "cell_type": "markdown",
            "metadata": {},
            "source": [
                "* Um programa consiste em uma sequ\u00eancia de comandos executados em ordem, em uma linha cont\u00ednua de execu\u00e7\u00e3o.\n",
                "\n",
                "* No entanto, essa linha de execu\u00e7\u00e3o (em ingl\u00eas: *thread*) pode conter desvios ou descontinuidades, processando c\u00f3digos de bibliotecas ou subprogramas."
            ]
        },
        {
            "cell_type": "markdown",
            "metadata": {},
            "source": [
                "## Programas e Subprogramas"
            ]
        },
        {
            "cell_type": "markdown",
            "metadata": {},
            "source": [
                "* Em grande parte das linguagens de programa\u00e7\u00e3o, **os programas podem ser divididos em um ou mais arquivos ou partes**.\n",
                "* <font color='blue'>Cada parte cont\u00e9m uma sequ\u00eancia de comandos com um objetivo espec\u00edfico</font>, realizando uma tarefa dentro do programa.\n",
                "* Dentro de um mesmo programa podem existir **subprogramas** (ou partes) com fun\u00e7\u00f5es espec\u00edficas ou subconjuntos de comandos que s\u00f3 ser\u00e3o executados em condi\u00e7\u00f5es especiais.\n",
                "* Todas as linguagens v\u00eam acompanhadas de <font color='blue'>**bibliotecas**, que cont\u00eam fun\u00e7\u00f5es ou programas de uso comum.</font>\n",
                "* S\u00e3o exemplos as fun\u00e7\u00f5es para c\u00e1lculos matem\u00e1ticos, opera\u00e7\u00f5es de entrada e sa\u00edda, comunica\u00e7\u00e3o e convers\u00e3o de dados.\n"
            ]
        },
        {
            "cell_type": "markdown",
            "metadata": {},
            "source": [
                "## Bibliotecas"
            ]
        },
        {
            "cell_type": "markdown",
            "metadata": {},
            "source": [
                "Cada linguagem de programa\u00e7\u00e3o possui um conjunto de bibliotecas dispon\u00edveis para uso. As bibliotecas podem armazenar vari\u00e1veis ou fun\u00e7\u00f5es."
            ]
        },
        {
            "cell_type": "markdown",
            "metadata": {},
            "source": [
                "\n",
                "Ver todas as bibliotecas nativas no Python em https://docs.python.org/pt-br/3/library.\n",
                "\n",
                "Algumas bibliotecas importantes, instaladas com `!pip`:\n",
                "\n",
                "- **Numpy** - processamento de matrizes e vetores\n",
                "- **Matplotlib** - processamento gr\u00e1fico\n",
                "- **Pandas** - processamento de arquivos CSV para ci\u00eancia de dados\n",
                "- **TensorFlow** - utilizado em aprendizado de m\u00e1quina\n",
                "- **OpenCV** - processamento de imagens e vis\u00e3o computacional\n",
                "- **NLTK** - processamento de linguagem natural\n",
                "\n",
                "Por exemplo, para instalar a biblioteca Numpy: !pip install numpy. <font color='blue'>Essas bibliotecas n\u00e3o ser\u00e3o utilizadas neste curso introdut\u00f3rio de programa\u00e7\u00e3o, uma vez que o foco principal \u00e9 ensinar l\u00f3gica de programa\u00e7\u00e3o, n\u00e3o o uso de bibliotecas espec\u00edficas.</font>\n",
                "\n",
                "\n",
                "\n",
                "\n"
            ]
        },
        {
            "cell_type": "markdown",
            "metadata": {},
            "source": [
                "\n",
                "Para utilizar uma biblioteca, voc\u00ea pode fazer o seguinte:\n",
                "\n",
                "* `import biblioteca` e us\u00e1-la com `biblioteca.fun\u00e7\u00e3o()` ou `biblioteca.vari\u00e1vel` ou\n",
                "* `import biblioteca as my` e us\u00e1-la com `my.fun\u00e7\u00e3o()` ou `my.vari\u00e1vel` ou  \n",
                "* `from biblioteca import fun\u00e7\u00e3o, vari\u00e1vel` e us\u00e1-la simplesmente com `fun\u00e7\u00e3o()` ou `vari\u00e1vel` ou\n",
                "* `from biblioteca import *` e us\u00e1-la simplesmente com `fun\u00e7\u00e3o()` ou `vari\u00e1vel`.\n",
                "\n",
                "A seguir, veja exemplos:"
            ]
        },
        {
            "cell_type": "code",
            "metadata": {},
            "source": [
                "import math\n",
                "print(\"math.pi =\", math.pi)\n",
                "print(\"math.sqrt(25) =\", math.sqrt(25))\n",
                "print(\"5**3 ou math.pow(5,3) =\", math.pow(5, 3))\n",
                "print(\"math.exp(1) =\", math.exp(1))\n",
                "print(\"math.exp(2) =\", math.exp(2))"
            ],
            "execution_count": null,
            "outputs": []
        },
        {
            "cell_type": "markdown",
            "metadata": {},
            "source": [
                "\n",
                "Para utilizar a biblioteca ***matplotlib***:"
            ]
        },
        {
            "cell_type": "code",
            "metadata": {},
            "source": [
                "!pip install matplotlib"
            ],
            "execution_count": null,
            "outputs": []
        },
        {
            "cell_type": "code",
            "metadata": {},
            "source": [
                "import matplotlib.pyplot as plt\n",
                "x1, y1 = 0, 0\n",
                "x2, y2 = 6, 12\n",
                "\n",
                "plt.title(\"meu primeiro gr\u00e1fico\")\n",
                "plt.text(x1, y1, \"p1\", bbox=dict(facecolor='red', alpha=0.4), fontsize=12)\n",
                "plt.text(x2, y2, \"p2\", bbox=dict(facecolor='red', alpha=0.4), fontsize=12)\n",
                "plt.plot([x1, x2], [y1, y2], color='blue')\n",
                "plt.grid()"
            ],
            "execution_count": null,
            "outputs": []
        },
        {
            "cell_type": "markdown",
            "metadata": {},
            "source": [
                "![](\"figs/imageCap2a.png\")"
            ]
        },
        {
            "cell_type": "markdown",
            "metadata": {},
            "source": [
                "## Fun\u00e7\u00f5es ou M\u00e9todos de Usu\u00e1rio"
            ]
        },
        {
            "cell_type": "markdown",
            "metadata": {},
            "source": [
                "\n",
                "* O uso de fun\u00e7\u00f5es facilita a **reutiliza\u00e7\u00e3o de c\u00f3digo**, j\u00e1 que uma fun\u00e7\u00e3o \u00e9 um programa autocontido, com **entrada**, **processamento** e **sa\u00edda**.\n",
                "\n",
                "* Uma fun\u00e7\u00e3o pode ser copiada de um programa para outro ou incorporada em uma biblioteca escrita pelo usu\u00e1rio, usando o comando `import myBiblioteca` em Python, ou `#include \"myBiblioteca.h\"` em C/C++/Java.\n",
                "\n",
                "* Uma fun\u00e7\u00e3o \u00e9 definida por um nome, um retorno (opcional), argumentos (opcionais) e um conjunto de instru\u00e7\u00f5es.\n",
                "\n",
                "Abaixo, temos um exemplo de fun\u00e7\u00e3o de usu\u00e1rio escrita em pseudoc\u00f3digo:"
            ]
        },
        {
            "cell_type": "markdown",
            "metadata": {},
            "source": [
                "```\n",
                "# MINHA(S) FUN\u00c7\u00c3O(\u00d5ES)\n",
                "fun\u00e7\u00e3o delta(recebe: real a, real b, real c) retorna real d {\n",
                "     d = b^2 - 4ac\n",
                "     retorne d\n",
                "}\n",
                "\n",
                "principal {\n",
                "  # ENTRADAS\n",
                "  a = 5\n",
                "  b = -2\n",
                "  c = 4\n",
                "\n",
                "  # PROCESSAMENTO\n",
                "  real valor = delta(a, b, c) # AQUI EST\u00c1 A CHAMADA DA FUN\u00c7\u00c3O\n",
                "  \n",
                "  # SA\u00cdDA\n",
                "  escreva(\"O delta de ax^2 + bx + c \u00e9 \" + valor)\n",
                "}\n",
                "```\n"
            ]
        },
        {
            "cell_type": "markdown",
            "metadata": {},
            "source": [
                "```\n",
                "TERMINOLOGIA: Os m\u00e9todos podem ser chamados tamb\u00e9m de m\u00f3dulos,\n",
                "fun\u00e7\u00f5es, subprogramas ou procedimentos.\n",
                "\n",
                "Existe uma conven\u00e7\u00e3o: quando um m\u00e9todo tem argumento(s)\n",
                "(par\u00e2metros) e um retorno, \u00e9 chamado de fun\u00e7\u00e3o; caso\n",
                "contr\u00e1rio, \u00e9 chamado de procedimento.\n",
                "\n",
                "No entanto, poucas linguagens fazem distin\u00e7\u00e3o na sintaxe entre\n",
                "fun\u00e7\u00e3o e procedimento, como a Pascal, tornando essa conven\u00e7\u00e3o\n",
                "confusa.\n",
                "```"
            ]
        },
        {
            "cell_type": "markdown",
            "metadata": {},
            "source": [
                "#### Exemplo 01 - Uso de Fun\u00e7\u00f5es"
            ]
        },
        {
            "cell_type": "markdown",
            "metadata": {},
            "source": [
                "###### Casos para Teste Moodle+VPL\n",
                "\n",
                "Para o professor criar uma atividade VPL no Moodle para este Exemplo 01, basta incluir em `Casos para teste`, o seguinte texto (pode incluir mais casos):\n",
                "\n",
                "```\n",
                "case=caso1\n",
                "output=\n",
                "O delta de ax^2 + bx + c \u00e9 -76.0\n",
                "```"
            ]
        },
        {
            "cell_type": "markdown",
            "metadata": {},
            "source": [
                "\n",
                "Observe que o **ESCOPO** da fun\u00e7\u00e3o \u00e9 definido pelo recuo (indenta\u00e7\u00e3o) na primeira coluna (linhas 4 e 5):"
            ]
        },
        {
            "cell_type": "code",
            "metadata": {},
            "source": [
                "# A fun\u00e7\u00e3o \u00e9 definida aqui\n",
                "def delta(a, b, c):\n",
                "    d = b * b - 4 * a * c\n",
                "    return d\n",
                "\n",
                "# Agora j\u00e1 pode ser usada\n",
                "valor = delta(5, -2, 4)\n",
                "print(\"O delta de ax^2 + bx + c \u00e9 %.1f\" % valor)"
            ],
            "execution_count": null,
            "outputs": []
        },
        {
            "cell_type": "markdown",
            "metadata": {},
            "source": [
                "\n",
                "Criando minha biblioteca em Python. O pr\u00f3ximo c\u00f3digo ir\u00e1 salvar o arquivo `myBiblioteca.py` na pasta deste Colab, no menu \u00e0 esquerda."
            ]
        },
        {
            "cell_type": "code",
            "metadata": {},
            "source": [
                "%%writefile myBiblioteca.py\n",
                "def Delta(a, b, c):\n",
                "    '''\n",
                "    Fun\u00e7\u00e3o para calcular o delta de uma equa\u00e7\u00e3o de 2o. grau\n",
                "    com coeficientes a, b e c\n",
                "    '''\n",
                "    d = b * b - 4 * a * c\n",
                "    return d\n",
                "\n",
                "def Raiz1(a, b, c):\n",
                "    '''\n",
                "    Fun\u00e7\u00e3o para calcular raiz1 de a, b e c\n",
                "    '''\n",
                "    r1 = (-b + Delta(a, b, c)**.5) / (2 * a)\n",
                "    return r1\n",
                "\n",
                "def Raiz2(a, b, c):\n",
                "    '''\n",
                "    Fun\u00e7\u00e3o para calcular raiz2 de a, b e c\n",
                "    '''\n",
                "    r2 = (-b - Delta(a, b, c)**.5) / (2 * a)\n",
                "    return r2"
            ],
            "execution_count": null,
            "outputs": []
        },
        {
            "cell_type": "code",
            "metadata": {},
            "source": [
                "import myBiblioteca as my\n",
                "help(my)"
            ],
            "execution_count": null,
            "outputs": []
        },
        {
            "cell_type": "code",
            "metadata": {},
            "source": [
                "my.Delta(1,5,4)"
            ],
            "execution_count": null,
            "outputs": []
        },
        {
            "cell_type": "code",
            "metadata": {},
            "source": [
                "my.Raiz1(1,5,4)"
            ],
            "execution_count": null,
            "outputs": []
        },
        {
            "cell_type": "code",
            "metadata": {},
            "source": [
                "my.Raiz2(1,5,4)"
            ],
            "execution_count": null,
            "outputs": []
        },
        {
            "cell_type": "code",
            "metadata": {},
            "source": [
                "import matplotlib.pyplot as plt\n",
                "import numpy as np\n",
                "\n",
                "x = np.arange(-5, 0, 0.1)\n",
                "a, b, c = 1, 5, 4\n",
                "y1 = a * x * x + b * x + c\n",
                "plt.plot(x, y1, 'g')\n",
                "plt.title(\"Meu gr\u00e1fico\")\n",
                "plt.text(my.Raiz2(1, 5, 4), 0, \"r1\", bbox=dict(facecolor='red', alpha=0.4), fontsize=12)\n",
                "plt.text(my.Raiz1(1, 5, 4), 0, \"r2\", bbox=dict(facecolor='red', alpha=0.4), fontsize=12)\n",
                "plt.grid()\n",
                "plt.show()"
            ],
            "execution_count": null,
            "outputs": []
        },
        {
            "cell_type": "markdown",
            "source": [
                "![imageCap2b.png](data:image/png;base64,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)"
            ],
            "metadata": {}
        },
        {
            "cell_type": "markdown",
            "metadata": {},
            "source": [
                "![](\"figs/imageCap2b.png\")"
            ]
        },
        {
            "cell_type": "code",
            "metadata": {},
            "source": [
                "from myBiblioteca import Delta # ou\n",
                "from myBiblioteca import *\n",
                "Delta(5,-2,4)"
            ],
            "execution_count": null,
            "outputs": []
        },
        {
            "cell_type": "markdown",
            "metadata": {},
            "source": [
                "\n",
                "Para fazer *upload* de um arquivo no GDrive:"
            ]
        },
        {
            "cell_type": "code",
            "metadata": {},
            "source": [
                "#https://drive.google.com/file/d/1x7uFa8lhaHUVG0mnCHc6PGbtTtMYrUn1/view?usp=drive_link\n",
                "!pip install -U --no-cache-dir gdown --pre\n",
                "!gdown --id 1x7uFa8lhaHUVG0mnCHc6PGbtTtMYrUn1"
            ],
            "execution_count": null,
            "outputs": []
        },
        {
            "cell_type": "markdown",
            "metadata": {},
            "source": [
                "\n",
                "Para fazer *upload* de um arquivo de uma URL:"
            ]
        },
        {
            "cell_type": "code",
            "metadata": {},
            "source": [
                "#https://www.ufabc.edu.br/images/conteudo/15-anos.png\n",
                "!wget https://www.ufabc.edu.br/images/conteudo/15-anos.png"
            ],
            "execution_count": null,
            "outputs": []
        },
        {
            "cell_type": "markdown",
            "metadata": {},
            "source": [
                "\n",
                "Observe que o **ESCOPO** da fun\u00e7\u00e3o \u00e9 definido por `{` ... `}`:"
            ]
        },
        {
            "cell_type": "code",
            "metadata": {},
            "source": [
                "%%writefile cap2ex01.cpp\n",
                "#include <iostream>\n",
                "#include <iomanip>\n",
                "using namespace std;\n",
                "float delta(float a, float b, float c) {\n",
                "  float d = b*b-4*a*c;\n",
                "  return d;\n",
                "}\n",
                "int main(void) {\n",
                "  std::cout << std::setprecision(1) << std::fixed;\n",
                "  float a=5.0, b=-2.0, c=4.0;\n",
                "  cout << \"O delta de ax^2 + bx + c \u00e9 \" << delta(a,b,c);\n",
                "  return 0;\n",
                "}"
            ],
            "execution_count": null,
            "outputs": []
        },
        {
            "cell_type": "code",
            "metadata": {},
            "source": [
                "%%shell\n",
                "g++ cap2ex01.cpp -o output\n",
                "./output"
            ],
            "execution_count": null,
            "outputs": []
        },
        {
            "cell_type": "markdown",
            "metadata": {},
            "source": [
                "\n",
                "Observe que o **ESCOPO** da fun\u00e7\u00e3o \u00e9 definido por `{` ... `}`:"
            ]
        },
        {
            "cell_type": "code",
            "metadata": {},
            "source": [
                "# activate R magic\n",
                "%load_ext rpy2.ipython"
            ],
            "execution_count": null,
            "outputs": []
        },
        {
            "cell_type": "code",
            "metadata": {},
            "source": [
                "%%R\n",
                "delta <- function(a,b,c) {\n",
                "  temp <- b*b-4*a*c;\n",
                "  return(temp);\n",
                "}\n",
                "a <- 5.0\n",
                "b <- -2.0\n",
                "c <- 4.0\n",
                "d <- delta(a,b,c)\n",
                "cat(\"O delta de ax^2 + bx + c \u00e9 \", format(d, nsmall = 1));"
            ],
            "execution_count": null,
            "outputs": []
        },
        {
            "cell_type": "markdown",
            "metadata": {},
            "source": [
                "\n",
                "Para rodar um c\u00f3digo em R no Moodle+VPL:\n"
            ]
        },
        {
            "cell_type": "code",
            "metadata": {},
            "source": [
                "%%writefile cap2ex01.r\n",
                "delta <- function(a,b,c) {\n",
                "  temp <- b*b-4*a*c;\n",
                "  return(temp);\n",
                "}\n",
                "a <- 5.0\n",
                "b <- -2.0\n",
                "c <- 4.0\n",
                "d <- delta(a,b,c)\n",
                "cat(\"O delta de ax^2 + bx + c \u00e9 \", format(d, nsmall = 1));"
            ],
            "execution_count": null,
            "outputs": []
        },
        {
            "cell_type": "code",
            "metadata": {},
            "source": [
                "%%shell\n",
                "Rscript cap2ex01.r"
            ],
            "execution_count": null,
            "outputs": []
        },
        {
            "cell_type": "markdown",
            "metadata": {},
            "source": [
                "### Tabula\u00e7\u00e3o"
            ]
        },
        {
            "cell_type": "markdown",
            "metadata": {},
            "source": [
                "\n",
                "- Um conceito fundamental em programa\u00e7\u00e3o \u00e9 a \"indenta\u00e7\u00e3o\" (*indentation*) ou tabula\u00e7\u00e3o do c\u00f3digo.\n",
                "\n",
                "- Sempre que um bloco ou subconjunto de comandos \u00e9 iniciado com `{`, a tabula\u00e7\u00e3o \u00e9 incrementada, e quando um subconjunto de comandos \u00e9 encerrado com `}`, a tabula\u00e7\u00e3o \u00e9 recuada.\n",
                "\n",
                "- Isso ajuda a visualizar claramente quando um grupo de comandos define um subprograma.\n",
                "\n",
                "- A maioria dos editores de c\u00f3digo e IDEs faz a tabula\u00e7\u00e3o de forma autom\u00e1tica. Certifique-se de pesquisar como fazer isso na IDE que voc\u00ea est\u00e1 usando.\n",
                "\n",
                "- C\u00f3digos sem uma tabula\u00e7\u00e3o correta s\u00e3o dif\u00edceis de ler, e **muitos professores descontam pontos em c\u00f3digos desorganizados**.\n"
            ]
        },
        {
            "cell_type": "markdown",
            "metadata": {},
            "source": [
                "\n",
                "* Linguagens como Python tornam a tabula\u00e7\u00e3o precisa um requisito obrigat\u00f3rio para a defini\u00e7\u00e3o da estrutura do c\u00f3digo."
            ]
        },
        {
            "cell_type": "markdown",
            "metadata": {},
            "source": [
                "## Escopo"
            ]
        },
        {
            "cell_type": "markdown",
            "metadata": {},
            "source": [
                "* Os subprogramas s\u00e3o programas independentes dentro do programa.\n",
                "* Portanto, eles possuem vari\u00e1veis pr\u00f3prias para armazenar seus dados.\n",
                "* Estas <font color='blue'>**vari\u00e1veis locais** s\u00f3 existem no \u00e2mbito do subprograma e apenas durante a execu\u00e7\u00e3o (chamada) do mesmo</font>, desaparecendo (ou sendo apagadas) ao t\u00e9rmino do subprograma ou ao retornar em qualquer ponto com o comando `return`.\n",
                "* **Vari\u00e1veis globais**, por outro lado, podem ser criadas em um escopo hierarquicamente superior a todos os m\u00e9todos/fun\u00e7\u00f5es, permeando todos os subprogramas.\n",
                "* Logo, as **vari\u00e1veis globais** t\u00eam escopo em todos os m\u00e9todos.\n"
            ]
        },
        {
            "cell_type": "markdown",
            "metadata": {},
            "source": [
                "\n",
                "Em Python, as **vari\u00e1veis globais** s\u00e3o definidas como `global variavel`. Ver alguns exemplos a seguir:"
            ]
        },
        {
            "cell_type": "code",
            "metadata": {},
            "source": [
                "def calculaIdade(anoAtual):\n",
                "  global anoNascimento  # considera a vari\u00e1vel global\n",
                "  return anoAtual - anoNascimento\n",
                "\n",
                "anoNascimento = 2005\n",
                "print(\"Idade =\", calculaIdade(2024))"
            ],
            "execution_count": null,
            "outputs": []
        },
        {
            "cell_type": "code",
            "source": [
                "def minha_funcao():\n",
                "    global global_var  # experimente comentar essa linha\n",
                "    global_var += 1 # incrementa uma vari\u00e1vel global\n",
                "    # minha_funcao()\n",
                "    '''\n",
                "    O que vai ocorrer se descomentar a linha anterior?\n",
                "    Isso \u00e9 recurs\u00e3o, mas faltou a condi\u00e7\u00e3o de parada.\n",
                "    Qual seria um exemplo de condi\u00e7\u00e3o de parada?\n",
                "    Resposta: pr\u00f3ximo cap\u00edtulo - condicional\n",
                "    '''\n",
                "    return global_var\n",
                "\n",
                "global_var = 10\n",
                "minha_funcao()"
            ],
            "metadata": {},
            "execution_count": null,
            "outputs": []
        },
        {
            "cell_type": "markdown",
            "source": [
                "Voc\u00ea pode copiar o c\u00f3digo e depur\u00e1-lo. Por exemplo, voc\u00ea pode usar op\u00e7\u00f5es de depura\u00e7\u00e3o *online*, como as seguintes:\n",
                "\n",
                "- https://pythontutor.com\n",
                "- https://vscode.dev"
            ],
            "metadata": {}
        },
        {
            "cell_type": "markdown",
            "metadata": {},
            "source": [
                "## Reaproveitamento e Manuten\u00e7\u00e3o de C\u00f3digo"
            ]
        },
        {
            "cell_type": "markdown",
            "metadata": {},
            "source": [
                "Corrigindo e mantendo a formata\u00e7\u00e3o:\n",
                "\n",
                "* Outra vantagem do uso de fun\u00e7\u00f5es/m\u00e9todos, al\u00e9m da capacidade de se reaproveitar o c\u00f3digo j\u00e1 escrito em novos programas copiando os subprogramas desejados, \u00e9 a\n",
                "  * possibilidade de atualizar os m\u00e9todos sem a necessidade de alterar o c\u00f3digo do programa principal.\n",
                "  * Para tanto, basta que a comunica\u00e7\u00e3o do m\u00e9todo (entradas e sa\u00eddas) permane\u00e7a inalterada.\n",
                "\n",
                "* Como exemplo, utilizamos um programa com m\u00e9todos para entrada e sa\u00edda de dados com os m\u00e9todos/fun\u00e7\u00f5es `leia()` e `escreva()`, baseado nos exemplos anteriores.\n",
                "\n",
                "* Para programas muito simples, com poucas linhas de c\u00f3digo, pode dar a impress\u00e3o de deixar o c\u00f3digo mais complicado, mas a principal vantagem \u00e9 o reaproveitamento de c\u00f3digo em outros programas similares.\n",
                "\n",
                "* <font color='red'>Esse recurso de m\u00e9todos de entrada e sa\u00edda ser\u00e1 muito \u00fatil nos t\u00f3picos de Vetores e Matrizes</font>, abordados nos Cap\u00edtulos 5 e 6, respectivamente, quando m\u00e9todos para ler e escrever um vetor/matriz poder\u00e3o ser reaproveitados em v\u00e1rias quest\u00f5es.\n",
                "\n",
                "* Para evitar a repeti\u00e7\u00e3o de muitas c\u00f3pias desses m\u00e9todos, \u00e9 poss\u00edvel criar nossas pr\u00f3prias bibliotecas."
            ]
        },
        {
            "cell_type": "markdown",
            "metadata": {},
            "source": [
                "#### Exemplo 02 - Uso de Fun\u00e7\u00f5es com Entrada e Sa\u00edda de Dados"
            ]
        },
        {
            "cell_type": "markdown",
            "metadata": {},
            "source": [
                "###### Casos para Teste no Moodle+VPL\n",
                "\n",
                "Para o professor criar uma atividade VPL no Moodle para este Exemplo 02, basta incluir em `Casos para teste`, o seguinte texto (pode incluir mais casos):\n",
                "\n",
                "```\n",
                "case=caso1\n",
                "input=3\n",
                "4\n",
                "5\n",
                "output=\n",
                "-44.0\n",
                "case=caso2\n",
                "input=3\n",
                "4\n",
                "2\n",
                "output=\n",
                "-8.0\n",
                "case=caso3\n",
                "input=3\n",
                "5\n",
                "2\n",
                "output=\n",
                "1.0\n",
                "```"
            ]
        },
        {
            "cell_type": "code",
            "metadata": {},
            "source": [
                "# DEFINI\u00c7\u00d5ES DE FUN\u00c7\u00d5ES:\n",
                "def leia():\n",
                "    a = float(input(\"Entre com o valor de a:\"))\n",
                "    b = float(input(\"Entre com o valor de b:\"))\n",
                "    c = float(input(\"Entre com o valor de c:\"))\n",
                "    return a, b, c\n",
                "\n",
                "def escreva(d):\n",
                "    print('Delta =', d)\n",
                "\n",
                "def delta(a, b, c):\n",
                "    d = b * b - 4 * a * c\n",
                "    return d\n",
                "\n",
                "# programa principal\n",
                "# ENTRADA DE DADOS\n",
                "a, b, c = leia()\n",
                "\n",
                "# PROCESSAMENTO\n",
                "d = delta(a, b, c)\n",
                "\n",
                "# SA\u00cdDA DE DADOS\n",
                "escreva(d)\n"
            ],
            "execution_count": null,
            "outputs": []
        },
        {
            "cell_type": "code",
            "metadata": {},
            "source": [
                "%%writefile cap2ex02.cpp\n",
                "#include <iostream>\n",
                "#include <iomanip>\n",
                "using namespace std;\n",
                "\n",
                "float delta(float a, float b, float c) {\n",
                "  float d = b*b-4*a*c;\n",
                "  return d;\n",
                "}\n",
                "\n",
                "float leia() {\n",
                "  double valor;\n",
                "  cout << \"Entre com um valor: \";\n",
                "  std::cin >> valor;\n",
                "  return valor;\n",
                "}\n",
                "\n",
                "void escreva(float valor) {\n",
                "  std::cout << std::setprecision(1) << std::fixed;\n",
                "  cout << \"Delta = \" << valor;\n",
                "}\n",
                "\n",
                "int main(void) {\n",
                "\n",
                "  // ENTRADAS\n",
                "  float a = leia();\n",
                "  float b = leia();\n",
                "  float c = leia();\n",
                "\n",
                "  // PROCESSAMENTO\n",
                "  float d = delta(a,b,c);\n",
                "\n",
                "  //SA\u00cdDA\n",
                "  escreva(d);\n",
                "  return 0;\n",
                "}"
            ],
            "execution_count": null,
            "outputs": []
        },
        {
            "cell_type": "code",
            "metadata": {},
            "source": [
                "%%shell\n",
                "g++ cap2ex02.cpp -o output\n",
                "./output"
            ],
            "execution_count": null,
            "outputs": []
        },
        {
            "cell_type": "code",
            "metadata": {},
            "source": [
                "# activate R magic\n",
                "%load_ext rpy2.ipython"
            ],
            "execution_count": null,
            "outputs": []
        },
        {
            "cell_type": "code",
            "metadata": {},
            "source": [
                "%%R\n",
                "delta <- function(a,b,c) {\n",
                "  temp <- b*b-4*a*c;\n",
                "  return(temp);\n",
                "}\n",
                "\n",
                "leia <- function() {\n",
                "  cat(\"Entre com um valor :\")\n",
                "  valor <- as.numeric(readline(prompt = \"\"))\n",
                "  return(valor);\n",
                "}\n",
                "\n",
                "escreva <- function(valor) {\n",
                "  cat(\"Delta = \", format(valor, nsmall = 1));\n",
                "}\n",
                "\n",
                "# ENTRADAS\n",
                "a <- leia()\n",
                "b <- leia()\n",
                "c <- leia()\n",
                "\n",
                "# PROCESSAMENTO\n",
                "d <- delta(a,b,c)\n",
                "\n",
                "# SA\u00cdDA\n",
                "escreva(d)"
            ],
            "execution_count": null,
            "outputs": []
        },
        {
            "cell_type": "code",
            "metadata": {},
            "source": [
                "# Para rodar SOMENTE em uma atividade no Moodle+VPL\n",
                "%%writefile cap2ex02.r\n",
                "delta <- function(a,b,c) {\n",
                "  temp <- b*b-4*a*c;\n",
                "  return(temp);\n",
                "}\n",
                "\n",
                "leia <- function() {\n",
                "  print(\"Entre com um valor: \")\n",
                "  valor <- as.numeric(readline(prompt = \"\"))\n",
                "  return(valor);\n",
                "}\n",
                "\n",
                "escreva <- function(valor) {\n",
                "  cat(\"Delta = \", format(valor, nsmall = 1));\n",
                "}\n",
                "\n",
                "# ENTRADAS\n",
                "a <- leia()\n",
                "b <- leia()\n",
                "c <- leia()\n",
                "\n",
                "# PROCESSAMENTO\n",
                "d <- delta(a,b,c)\n",
                "\n",
                "# SA\u00cdDA\n",
                "escreva(d)"
            ],
            "execution_count": null,
            "outputs": []
        },
        {
            "cell_type": "code",
            "metadata": {},
            "source": [
                "%%shell\n",
                "Rscript cap2ex02.r"
            ],
            "execution_count": null,
            "outputs": []
        },
        {
            "cell_type": "markdown",
            "metadata": {},
            "source": [
                "## Exerc\u00edcios"
            ]
        },
        {
            "cell_type": "markdown",
            "metadata": {},
            "source": [
                "Para visualizar o *notebook* Colab no arquivo `cap2.part2.lab.*.ipynb` (`X` $\\in$ `[2,3,4,...]` e `*` \u00e9 a extens\u00e3o da linguagem), voc\u00ea pode utilizar a linguagem de programa\u00e7\u00e3o de sua prefer\u00eancia e organizar os *notebooks* nas subpastas contidas na pasta **\"gen\"** dentro da pasta do Google Drive \"colabs\", acess\u00edvel atrav\u00e9s deste [link](https://drive.google.com/drive/folders/1YlFwv8XYN7PYYf-HwDMlkxzbmXzJw9cM?usp=sharing)."
            ]
        },
        {
            "cell_type": "markdown",
            "metadata": {},
            "source": [
                "\n",
                "## Revis\u00e3o deste cap\u00edtulo de Organiza\u00e7\u00e3o de C\u00f3digo\n",
                "* Programas sequenciais\n",
                "  * Organize o seu c\u00f3digo em tr\u00eas partes: Entrada $\\Rightarrow$ Processamento $\\Rightarrow$ Sa\u00edda.\n",
                "* Coment\u00e1rios\n",
                "  * S\u00e3o \u00fateis para que outros possam entender o seu c\u00f3digo.\n",
                "* Desvios de fluxo\n",
                "* Programas e subprogramas\n",
                "* Fun\u00e7\u00f5es, m\u00e9todos e modulariza\u00e7\u00e3o\n",
                "* Reaproveitamento e manuten\u00e7\u00e3o de c\u00f3digo\n",
                "  * Estes \u00faltimos t\u00f3picos s\u00e3o fundamentais para organizar o seu c\u00f3digo em partes.\n",
                "  * Fique atento ao **escopo** de vari\u00e1veis, sejam **locais** ou **globais**.\n",
                "* Exerc\u00edcios"
            ]
        }
    ]
}